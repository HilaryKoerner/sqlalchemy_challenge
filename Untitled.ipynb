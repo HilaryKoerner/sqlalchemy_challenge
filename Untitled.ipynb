{
 "cells": [
  {
   "cell_type": "code",
   "execution_count": 1,
   "metadata": {},
   "outputs": [],
   "source": [
    "import numpy as np\n",
    "\n",
    "import sqlalchemy\n",
    "from sqlalchemy.ext.automap import automap_base\n",
    "from sqlalchemy.orm import Session\n",
    "from sqlalchemy import create_engine, func\n",
    "\n",
    "# #import flask\n",
    "# from flask import Flask, jsonify\n",
    "\n",
    "############\n",
    "#database setup\n",
    "#################\n",
    "\n",
    "# create engine to hawaii.sqlite\n",
    "engine = create_engine(\"sqlite:///Resources/hawaii.sqlite\")\n",
    "\n",
    "# reflect an existing database into a new model\n",
    "Base = automap_base()\n",
    "Base.prepare(engine, reflect=True)\n",
    "\n",
    "# Save references to each table\n",
    "Measurement = Base.classes.measurement\n",
    "Stations = Base.classes.station\n",
    "\n",
    "# #create an app and pass __name__\n",
    "# app = Flask(__name__)\n",
    "\n",
    "# # #create date and prcp dictionary\n",
    "# # nan = 'nan'\n",
    "\n",
    "# #create an app and pass __name__\n",
    "# app = Flask(__name__)\n"
   ]
  },
  {
   "cell_type": "code",
   "execution_count": 2,
   "metadata": {},
   "outputs": [
    {
     "name": "stdout",
     "output_type": "stream",
     "text": [
      "[<sqlalchemy.orm.attributes.InstrumentedAttribute object at 0x00000192E99AB590>, <sqlalchemy.sql.functions.min at 0x192eb493a00; min>, <sqlalchemy.sql.functions.max at 0x192eb493d30; max>, <sqlalchemy.sql.functions.Function at 0x192eb493d60; avg>]\n"
     ]
    }
   ],
   "source": [
    "# @app.route(\"/api/v1.0/start_end\")\n",
    "# def start_end():\n",
    "#create session route (link from python to DB)\n",
    "session = Session(engine)\n",
    "\n",
    "station_query = [Measurement.station, func.min(Measurement.tobs), func.max(Measurement.tobs), func.avg(Measurement.tobs)]\n",
    "print(station_query)"
   ]
  },
  {
   "cell_type": "code",
   "execution_count": null,
   "metadata": {},
   "outputs": [],
   "source": [
    "start_end_date = session.query(*station_query).\\\n",
    "filter(Measurement.date >= '2015-01-01').\\\n",
    "filter(Measurement.date < '2017-01-01').\\\n",
    "group_by(Measurement.station).all()\n",
    "\n",
    "session.close()\n",
    "\n",
    "start_end = []\n",
    "for station, min_tob, max_tob, avg_tob in start_end_date:\n",
    "    start_end_dict = {}\n",
    "    start_end_dict['Station'] = station\n",
    "    start_end_dict['Min Temp'] = min_tob\n",
    "    start_end_dict['Max Temp'] = max_tob\n",
    "    start_end_dict['Avg Temp'] = avg_tob\n",
    "    start_end.append(start_end_dict)\n",
    "\n",
    "# return jsonify(start_end)"
   ]
  }
 ],
 "metadata": {
  "kernelspec": {
   "display_name": "Python 3",
   "language": "python",
   "name": "python3"
  },
  "language_info": {
   "codemirror_mode": {
    "name": "ipython",
    "version": 3
   },
   "file_extension": ".py",
   "mimetype": "text/x-python",
   "name": "python",
   "nbconvert_exporter": "python",
   "pygments_lexer": "ipython3",
   "version": "3.8.3"
  }
 },
 "nbformat": 4,
 "nbformat_minor": 4
}
